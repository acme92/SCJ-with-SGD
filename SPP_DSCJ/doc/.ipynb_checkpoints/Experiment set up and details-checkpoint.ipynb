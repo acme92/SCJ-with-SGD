{
 "cells": [
  {
   "cell_type": "markdown",
   "metadata": {},
   "source": [
    "# Experiment set up"
   ]
  },
  {
   "cell_type": "markdown",
   "metadata": {},
   "source": [
    "06/07/2020\n",
    "\n",
    "This document contains the details and locations of files relevant to the experiments for Small Parsimony Problem integer linear program (SPP ILP) using the Single-Cut-or-Join with Tandem and Floating Duplications (SCJTDFD) model.\n",
    "\n",
    "The SPP ILP requires the following inputs:<br>\n",
    "\n",
    "1. A species tree,\n",
    "2. A list of genes for each species in the tree,\n",
    "3. Orthology relations for each gene family,\n",
    "4. A set of candidate adjacencies with weights (between 0 and 1)\n",
    "\n",
    "Using this information the SPP ILP outputs a set of adjacencies for each species that minimizes the overall evolutionary distance. We compare our results to PMAG/MLGO, maximum likelihood based gene order reconstruction software. \n",
    "\n",
    "Note that the SCJTDFD model explains gene duplications as tandem or floating duplications. It is not yet well-equipped to handle gene losses. However, as gene losses are frequently observed during evolution, we also wish to observe the impact of gene losses on ancestral reconstruction. "
   ]
  },
  {
   "cell_type": "markdown",
   "metadata": {},
   "source": [
    "We run three sets of experiments on simulated data with increasing levels of noise:\n",
    "\n",
    "1. Perfect input: We only provide candidate adjacencies which occur in the simulations as well as the exact set of orthology relations. This experiment is located in the \"2019-06-11__SPP_same_topology\" folder.\n",
    "2. Pool of candidate adjacencies: We provide the set of orthology relations as per the simulations but we also provide a pool of candidate adjacencies for each species. This experiment is located in the \"2019-11-13__SPP_DeClone\" folder.\n",
    "3. Inferred gene content: We use an external software to generate orthology relations between the genes and infer the gene content each species accordingly. This experiment is located in the \"2020-06-15__SPP_DeClone_ecceTERA\" folder."
   ]
  },
  {
   "cell_type": "markdown",
   "metadata": {},
   "source": [
    "## Simulations\n",
    "\n",
    "We use ZOMBI, a phylogeny and genome simulator (https://doi.org/10.1093/bioinformatics/btz710) to generate our data. Simulations can be found in the simulations folder under three categories:\n",
    "1. without_LT: no gene loss, moderate rearrangement (EXP1 - 200 duplications, 100 inversions, 100 transpositions)\n",
    "2. without_LT_high_rearr: no gene loss, high rearrangement (EXP2 - - 200 duplications, 500 inversions, 500 transpositions)\n",
    "3. with_L: with gene loss, moderate rearrangement (EXP3 - 200 duplications, 100 inversions, 100 transpositions, 200 gene losses).\n",
    "For each scenario, we generate 20 runs with the same topology.  \n",
    "\n",
    "Weighted candidate adjacencies have been generated via DeClone (https://bmcbioinformatics.biomedcentral.com/articles/10.1186/1471-2105-16-S19-S6). For each run, we generate sets of possible adjacencies with two Boltzmann temperatures (kT=0.1 and kT=1). \n",
    "\n",
    "For the third set of experiments, we use ecceTERA (https://academic.oup.com/bioinformatics/article/32/13/2056/1743358) to obtain reconciled gene trees and infer gene content."
   ]
  },
  {
   "cell_type": "markdown",
   "metadata": {},
   "source": []
  }
 ],
 "metadata": {
  "kernelspec": {
   "display_name": "Python 3",
   "language": "python",
   "name": "python3"
  },
  "language_info": {
   "codemirror_mode": {
    "name": "ipython",
    "version": 3
   },
   "file_extension": ".py",
   "mimetype": "text/x-python",
   "name": "python",
   "nbconvert_exporter": "python",
   "pygments_lexer": "ipython3",
   "version": "3.6.0"
  }
 },
 "nbformat": 4,
 "nbformat_minor": 2
}
